{
    "cells": [
        {
            "cell_type": "code",
            "execution_count": 1,
            "metadata": {},
            "outputs": [
                {
                    "name": "stdout",
                    "output_type": "stream",
                    "text": "Solving environment: done\n\n## Package Plan ##\n\n  environment location: /opt/conda/envs/Python36\n\n  added / updated specs: \n    - beautifulsoup4\n\n\nThe following packages will be downloaded:\n\n    package                    |            build\n    ---------------------------|-----------------\n    python_abi-3.6             |          1_cp36m           4 KB  conda-forge\n    beautifulsoup4-4.9.1       |   py36h9f0ad1d_0         163 KB  conda-forge\n    openssl-1.1.1g             |       h516909a_0         2.1 MB  conda-forge\n    certifi-2020.6.20          |   py36h9f0ad1d_0         151 KB  conda-forge\n    ca-certificates-2020.6.20  |       hecda079_0         145 KB  conda-forge\n    ------------------------------------------------------------\n                                           Total:         2.6 MB\n\nThe following NEW packages will be INSTALLED:\n\n    python_abi:      3.6-1_cp36m       conda-forge\n\nThe following packages will be UPDATED:\n\n    beautifulsoup4:  4.7.1-py36_1                  --> 4.9.1-py36h9f0ad1d_0     conda-forge\n    certifi:         2020.6.20-py36_0              --> 2020.6.20-py36h9f0ad1d_0 conda-forge\n    openssl:         1.1.1g-h7b6447c_0             --> 1.1.1g-h516909a_0        conda-forge\n\nThe following packages will be DOWNGRADED:\n\n    ca-certificates: 2020.6.24-0                   --> 2020.6.20-hecda079_0     conda-forge\n\n\nDownloading and Extracting Packages\npython_abi-3.6       | 4 KB      | ##################################### | 100% \nbeautifulsoup4-4.9.1 | 163 KB    | ##################################### | 100% \nopenssl-1.1.1g       | 2.1 MB    | ##################################### | 100% \ncertifi-2020.6.20    | 151 KB    | ##################################### | 100% \nca-certificates-2020 | 145 KB    | ##################################### | 100% \nPreparing transaction: done\nVerifying transaction: done\nExecuting transaction: done\nLibraries imported.\n"
                }
            ],
            "source": "import numpy as np\nimport pandas as pd\nimport json\nimport requests\nfrom pandas.io.json import json_normalize\nimport matplotlib.cm as cm\nimport matplotlib.colors as colors\nfrom sklearn.cluster import KMeans\n!conda install -c conda-forge beautifulsoup4 --yes\nfrom bs4 import BeautifulSoup\nfrom geopy.geocoders import Nominatim\nprint(\"Libraries imported.\")"
        },
        {
            "cell_type": "code",
            "execution_count": 2,
            "metadata": {},
            "outputs": [
                {
                    "name": "stdout",
                    "output_type": "stream",
                    "text": "Solving environment: done\n\n## Package Plan ##\n\n  environment location: /opt/conda/envs/Python36\n\n  added / updated specs: \n    - folium=0.5.0\n\n\nThe following packages will be downloaded:\n\n    package                    |            build\n    ---------------------------|-----------------\n    branca-0.4.1               |             py_0          26 KB  conda-forge\n    folium-0.5.0               |             py_0          45 KB  conda-forge\n    vincent-0.4.4              |             py_1          28 KB  conda-forge\n    altair-4.1.0               |             py_1         614 KB  conda-forge\n    ------------------------------------------------------------\n                                           Total:         713 KB\n\nThe following NEW packages will be INSTALLED:\n\n    altair:  4.1.0-py_1 conda-forge\n    branca:  0.4.1-py_0 conda-forge\n    folium:  0.5.0-py_0 conda-forge\n    vincent: 0.4.4-py_1 conda-forge\n\n\nDownloading and Extracting Packages\nbranca-0.4.1         | 26 KB     | ##################################### | 100% \nfolium-0.5.0         | 45 KB     | ##################################### | 100% \nvincent-0.4.4        | 28 KB     | ##################################### | 100% \naltair-4.1.0         | 614 KB    | ##################################### | 100% \nPreparing transaction: done\nVerifying transaction: done\nExecuting transaction: done\n"
                }
            ],
            "source": "!conda install -c conda-forge folium=0.5.0 --yes\nimport folium\nfrom pandas.io.json import json_normalize\ndata = requests.get('https://en.wikipedia.org/wiki/List_of_postal_codes_of_Canada:_M').text\nsoup = BeautifulSoup(data,'html.parser')\npostalCodeList = []\nboroughList = []\nneighborhoodList = []"
        },
        {
            "cell_type": "code",
            "execution_count": 3,
            "metadata": {},
            "outputs": [
                {
                    "data": {
                        "text/html": "<div>\n<style scoped>\n    .dataframe tbody tr th:only-of-type {\n        vertical-align: middle;\n    }\n\n    .dataframe tbody tr th {\n        vertical-align: top;\n    }\n\n    .dataframe thead th {\n        text-align: right;\n    }\n</style>\n<table border=\"1\" class=\"dataframe\">\n  <thead>\n    <tr style=\"text-align: right;\">\n      <th></th>\n      <th>Postalcode</th>\n      <th>Borough</th>\n      <th>Neighborhood</th>\n    </tr>\n  </thead>\n  <tbody>\n    <tr>\n      <th>0</th>\n      <td>M1A\\n</td>\n      <td>Not assigned\\n</td>\n      <td>Not assigned</td>\n    </tr>\n    <tr>\n      <th>1</th>\n      <td>M2A\\n</td>\n      <td>Not assigned\\n</td>\n      <td>Not assigned</td>\n    </tr>\n    <tr>\n      <th>2</th>\n      <td>M3A\\n</td>\n      <td>North York\\n</td>\n      <td>Parkwoods</td>\n    </tr>\n    <tr>\n      <th>3</th>\n      <td>M4A\\n</td>\n      <td>North York\\n</td>\n      <td>Victoria Village</td>\n    </tr>\n    <tr>\n      <th>4</th>\n      <td>M5A\\n</td>\n      <td>Downtown Toronto\\n</td>\n      <td>Regent Park, Harbourfront</td>\n    </tr>\n  </tbody>\n</table>\n</div>",
                        "text/plain": "  Postalcode             Borough               Neighborhood\n0      M1A\\n      Not assigned\\n               Not assigned\n1      M2A\\n      Not assigned\\n               Not assigned\n2      M3A\\n        North York\\n                  Parkwoods\n3      M4A\\n        North York\\n           Victoria Village\n4      M5A\\n  Downtown Toronto\\n  Regent Park, Harbourfront"
                    },
                    "execution_count": 3,
                    "metadata": {},
                    "output_type": "execute_result"
                }
            ],
            "source": "soup.find('table').find_all('tr')\nfor row in soup.find('table').find_all('tr'):\n    cells = row.find_all('td')\n    if(len(cells) > 0):\n        postalCodeList.append(cells[0].text)\n        boroughList.append(cells[1].text)\n        neighborhoodList.append(cells[2].text.rstrip('\\n'))\ntoronto_df = pd.DataFrame({\"Postalcode\": postalCodeList,\n                            \"Borough\": boroughList,\n                            \"Neighborhood\": neighborhoodList})\ntoronto_df.head()"
        },
        {
            "cell_type": "code",
            "execution_count": 4,
            "metadata": {},
            "outputs": [
                {
                    "data": {
                        "text/html": "<div>\n<style scoped>\n    .dataframe tbody tr th:only-of-type {\n        vertical-align: middle;\n    }\n\n    .dataframe tbody tr th {\n        vertical-align: top;\n    }\n\n    .dataframe thead th {\n        text-align: right;\n    }\n</style>\n<table border=\"1\" class=\"dataframe\">\n  <thead>\n    <tr style=\"text-align: right;\">\n      <th></th>\n      <th>Postalcode</th>\n      <th>Borough</th>\n      <th>Neighborhood</th>\n    </tr>\n  </thead>\n  <tbody>\n    <tr>\n      <th>0</th>\n      <td>M3A\\n</td>\n      <td>North York\\n</td>\n      <td>Parkwoods</td>\n    </tr>\n    <tr>\n      <th>1</th>\n      <td>M4A\\n</td>\n      <td>North York\\n</td>\n      <td>Victoria Village</td>\n    </tr>\n    <tr>\n      <th>2</th>\n      <td>M5A\\n</td>\n      <td>Downtown Toronto\\n</td>\n      <td>Regent Park, Harbourfront</td>\n    </tr>\n    <tr>\n      <th>3</th>\n      <td>M6A\\n</td>\n      <td>North York\\n</td>\n      <td>Lawrence Manor, Lawrence Heights</td>\n    </tr>\n    <tr>\n      <th>4</th>\n      <td>M7A\\n</td>\n      <td>Downtown Toronto\\n</td>\n      <td>Queen's Park, Ontario Provincial Government</td>\n    </tr>\n  </tbody>\n</table>\n</div>",
                        "text/plain": "  Postalcode             Borough                                 Neighborhood\n0      M3A\\n        North York\\n                                    Parkwoods\n1      M4A\\n        North York\\n                             Victoria Village\n2      M5A\\n  Downtown Toronto\\n                    Regent Park, Harbourfront\n3      M6A\\n        North York\\n             Lawrence Manor, Lawrence Heights\n4      M7A\\n  Downtown Toronto\\n  Queen's Park, Ontario Provincial Government"
                    },
                    "execution_count": 4,
                    "metadata": {},
                    "output_type": "execute_result"
                }
            ],
            "source": "toronto_df.replace(\"Not assigned\\n\",np.nan, inplace=True)\ntoronto_df = toronto_df[toronto_df[\"Borough\"].notnull()]\ntoronto_df.reset_index(drop=True, inplace=True)\ntoronto_df.head()"
        },
        {
            "cell_type": "code",
            "execution_count": 5,
            "metadata": {},
            "outputs": [
                {
                    "data": {
                        "text/html": "<div>\n<style scoped>\n    .dataframe tbody tr th:only-of-type {\n        vertical-align: middle;\n    }\n\n    .dataframe tbody tr th {\n        vertical-align: top;\n    }\n\n    .dataframe thead th {\n        text-align: right;\n    }\n</style>\n<table border=\"1\" class=\"dataframe\">\n  <thead>\n    <tr style=\"text-align: right;\">\n      <th></th>\n      <th>Postalcode</th>\n      <th>Borough</th>\n      <th>Neighborhood</th>\n    </tr>\n  </thead>\n  <tbody>\n    <tr>\n      <th>0</th>\n      <td>M1B\\n</td>\n      <td>Scarborough\\n</td>\n      <td>Malvern, Rouge</td>\n    </tr>\n    <tr>\n      <th>1</th>\n      <td>M1C\\n</td>\n      <td>Scarborough\\n</td>\n      <td>Rouge Hill, Port Union, Highland Creek</td>\n    </tr>\n    <tr>\n      <th>2</th>\n      <td>M1E\\n</td>\n      <td>Scarborough\\n</td>\n      <td>Guildwood, Morningside, West Hill</td>\n    </tr>\n    <tr>\n      <th>3</th>\n      <td>M1G\\n</td>\n      <td>Scarborough\\n</td>\n      <td>Woburn</td>\n    </tr>\n    <tr>\n      <th>4</th>\n      <td>M1H\\n</td>\n      <td>Scarborough\\n</td>\n      <td>Cedarbrae</td>\n    </tr>\n  </tbody>\n</table>\n</div>",
                        "text/plain": "  Postalcode        Borough                            Neighborhood\n0      M1B\\n  Scarborough\\n                          Malvern, Rouge\n1      M1C\\n  Scarborough\\n  Rouge Hill, Port Union, Highland Creek\n2      M1E\\n  Scarborough\\n       Guildwood, Morningside, West Hill\n3      M1G\\n  Scarborough\\n                                  Woburn\n4      M1H\\n  Scarborough\\n                               Cedarbrae"
                    },
                    "execution_count": 5,
                    "metadata": {},
                    "output_type": "execute_result"
                }
            ],
            "source": "toronto_df_grouped = toronto_df.groupby([\"Postalcode\",\"Borough\"], as_index=False).agg(lambda x: \",\".join(x))\ntoronto_df_grouped.head()"
        },
        {
            "cell_type": "code",
            "execution_count": 6,
            "metadata": {
                "scrolled": true
            },
            "outputs": [
                {
                    "data": {
                        "text/html": "<div>\n<style scoped>\n    .dataframe tbody tr th:only-of-type {\n        vertical-align: middle;\n    }\n\n    .dataframe tbody tr th {\n        vertical-align: top;\n    }\n\n    .dataframe thead th {\n        text-align: right;\n    }\n</style>\n<table border=\"1\" class=\"dataframe\">\n  <thead>\n    <tr style=\"text-align: right;\">\n      <th></th>\n      <th>Postalcode</th>\n      <th>Borough</th>\n      <th>Neighborhood</th>\n    </tr>\n  </thead>\n  <tbody>\n    <tr>\n      <th>0</th>\n      <td>M1B\\n</td>\n      <td>Scarborough\\n</td>\n      <td>Malvern, Rouge</td>\n    </tr>\n    <tr>\n      <th>1</th>\n      <td>M1C\\n</td>\n      <td>Scarborough\\n</td>\n      <td>Rouge Hill, Port Union, Highland Creek</td>\n    </tr>\n    <tr>\n      <th>2</th>\n      <td>M1E\\n</td>\n      <td>Scarborough\\n</td>\n      <td>Guildwood, Morningside, West Hill</td>\n    </tr>\n    <tr>\n      <th>3</th>\n      <td>M1G\\n</td>\n      <td>Scarborough\\n</td>\n      <td>Woburn</td>\n    </tr>\n    <tr>\n      <th>4</th>\n      <td>M1H\\n</td>\n      <td>Scarborough\\n</td>\n      <td>Cedarbrae</td>\n    </tr>\n  </tbody>\n</table>\n</div>",
                        "text/plain": "  Postalcode        Borough                            Neighborhood\n0      M1B\\n  Scarborough\\n                          Malvern, Rouge\n1      M1C\\n  Scarborough\\n  Rouge Hill, Port Union, Highland Creek\n2      M1E\\n  Scarborough\\n       Guildwood, Morningside, West Hill\n3      M1G\\n  Scarborough\\n                                  Woburn\n4      M1H\\n  Scarborough\\n                               Cedarbrae"
                    },
                    "execution_count": 6,
                    "metadata": {},
                    "output_type": "execute_result"
                }
            ],
            "source": "toronto_df_grouped = toronto_df.groupby([\"Postalcode\",\"Borough\"], as_index=False).agg(lambda x: \", \".join(x))\ntoronto_df_grouped.head()"
        },
        {
            "cell_type": "code",
            "execution_count": 7,
            "metadata": {},
            "outputs": [
                {
                    "data": {
                        "text/html": "<div>\n<style scoped>\n    .dataframe tbody tr th:only-of-type {\n        vertical-align: middle;\n    }\n\n    .dataframe tbody tr th {\n        vertical-align: top;\n    }\n\n    .dataframe thead th {\n        text-align: right;\n    }\n</style>\n<table border=\"1\" class=\"dataframe\">\n  <thead>\n    <tr style=\"text-align: right;\">\n      <th></th>\n      <th>Postalcode</th>\n      <th>Borough</th>\n      <th>Neighborhood</th>\n    </tr>\n  </thead>\n  <tbody>\n    <tr>\n      <th>0</th>\n      <td>M1B\\n</td>\n      <td>Scarborough\\n</td>\n      <td>Malvern, Rouge</td>\n    </tr>\n    <tr>\n      <th>1</th>\n      <td>M1C\\n</td>\n      <td>Scarborough\\n</td>\n      <td>Rouge Hill, Port Union, Highland Creek</td>\n    </tr>\n    <tr>\n      <th>2</th>\n      <td>M1E\\n</td>\n      <td>Scarborough\\n</td>\n      <td>Guildwood, Morningside, West Hill</td>\n    </tr>\n    <tr>\n      <th>3</th>\n      <td>M1G\\n</td>\n      <td>Scarborough\\n</td>\n      <td>Woburn</td>\n    </tr>\n    <tr>\n      <th>4</th>\n      <td>M1H\\n</td>\n      <td>Scarborough\\n</td>\n      <td>Cedarbrae</td>\n    </tr>\n  </tbody>\n</table>\n</div>",
                        "text/plain": "  Postalcode        Borough                            Neighborhood\n0      M1B\\n  Scarborough\\n                          Malvern, Rouge\n1      M1C\\n  Scarborough\\n  Rouge Hill, Port Union, Highland Creek\n2      M1E\\n  Scarborough\\n       Guildwood, Morningside, West Hill\n3      M1G\\n  Scarborough\\n                                  Woburn\n4      M1H\\n  Scarborough\\n                               Cedarbrae"
                    },
                    "execution_count": 7,
                    "metadata": {},
                    "output_type": "execute_result"
                }
            ],
            "source": "for index, row in toronto_df_grouped.iterrows():\n    if row[\"Neighborhood\"] == \"Not assigned\":\n        row[\"Neighborhood\"] = row [\"Borough\"]\n\ntoronto_df_grouped.head()"
        },
        {
            "cell_type": "markdown",
            "metadata": {},
            "source": "# QUESTION 1 :Scrape the Wikipedia page to obtain the data that is in the table of postal codes and to transform the data into a pandas dataframe "
        },
        {
            "cell_type": "code",
            "execution_count": 8,
            "metadata": {},
            "outputs": [
                {
                    "data": {
                        "text/html": "<div>\n<style scoped>\n    .dataframe tbody tr th:only-of-type {\n        vertical-align: middle;\n    }\n\n    .dataframe tbody tr th {\n        vertical-align: top;\n    }\n\n    .dataframe thead th {\n        text-align: right;\n    }\n</style>\n<table border=\"1\" class=\"dataframe\">\n  <thead>\n    <tr style=\"text-align: right;\">\n      <th></th>\n      <th>Postalcode</th>\n      <th>Borough</th>\n      <th>Neighborhood</th>\n    </tr>\n  </thead>\n  <tbody>\n    <tr>\n      <th>0</th>\n      <td>M5G\\n</td>\n      <td>Downtown Toronto\\n</td>\n      <td>Central Bay Street</td>\n    </tr>\n    <tr>\n      <th>1</th>\n      <td>M2H\\n</td>\n      <td>North York\\n</td>\n      <td>Hillcrest Village</td>\n    </tr>\n    <tr>\n      <th>2</th>\n      <td>M4B\\n</td>\n      <td>East York\\n</td>\n      <td>Parkview Hill, Woodbine Gardens</td>\n    </tr>\n    <tr>\n      <th>3</th>\n      <td>M1J\\n</td>\n      <td>Scarborough\\n</td>\n      <td>Scarborough Village</td>\n    </tr>\n    <tr>\n      <th>4</th>\n      <td>M4G\\n</td>\n      <td>East York\\n</td>\n      <td>Leaside</td>\n    </tr>\n    <tr>\n      <th>5</th>\n      <td>M4M\\n</td>\n      <td>East Toronto\\n</td>\n      <td>Studio District</td>\n    </tr>\n    <tr>\n      <th>6</th>\n      <td>M1R\\n</td>\n      <td>Scarborough\\n</td>\n      <td>Wexford, Maryvale</td>\n    </tr>\n    <tr>\n      <th>7</th>\n      <td>M9V\\n</td>\n      <td>Etobicoke\\n</td>\n      <td>South Steeles, Silverstone, Humbergate, Jamest...</td>\n    </tr>\n    <tr>\n      <th>8</th>\n      <td>M9L\\n</td>\n      <td>North York\\n</td>\n      <td>Humber Summit</td>\n    </tr>\n    <tr>\n      <th>9</th>\n      <td>M5V\\n</td>\n      <td>Downtown Toronto\\n</td>\n      <td>CN Tower, King and Spadina, Railway Lands, Har...</td>\n    </tr>\n    <tr>\n      <th>10</th>\n      <td>M1B\\n</td>\n      <td>Scarborough\\n</td>\n      <td>Malvern, Rouge</td>\n    </tr>\n    <tr>\n      <th>11</th>\n      <td>M5A\\n</td>\n      <td>Downtown Toronto\\n</td>\n      <td>Regent Park, Harbourfront</td>\n    </tr>\n  </tbody>\n</table>\n</div>",
                        "text/plain": "   Postalcode             Borough  \\\n0       M5G\\n  Downtown Toronto\\n   \n1       M2H\\n        North York\\n   \n2       M4B\\n         East York\\n   \n3       M1J\\n       Scarborough\\n   \n4       M4G\\n         East York\\n   \n5       M4M\\n      East Toronto\\n   \n6       M1R\\n       Scarborough\\n   \n7       M9V\\n         Etobicoke\\n   \n8       M9L\\n        North York\\n   \n9       M5V\\n  Downtown Toronto\\n   \n10      M1B\\n       Scarborough\\n   \n11      M5A\\n  Downtown Toronto\\n   \n\n                                         Neighborhood  \n0                                  Central Bay Street  \n1                                   Hillcrest Village  \n2                     Parkview Hill, Woodbine Gardens  \n3                                 Scarborough Village  \n4                                             Leaside  \n5                                     Studio District  \n6                                   Wexford, Maryvale  \n7   South Steeles, Silverstone, Humbergate, Jamest...  \n8                                       Humber Summit  \n9   CN Tower, King and Spadina, Railway Lands, Har...  \n10                                     Malvern, Rouge  \n11                          Regent Park, Harbourfront  "
                    },
                    "execution_count": 8,
                    "metadata": {},
                    "output_type": "execute_result"
                }
            ],
            "source": "Column_names = [\"Postalcode\",\"Borough\", \"Neighborhood\"]\ntest_df = pd.DataFrame(columns=Column_names)\ntest_list = [\"M5G\\n\",\"M2H\\n\",\"M4B\\n\",\"M1J\\n\",\"M4G\\n\",\"M4M\\n\", \"M1R\\n\",\"M9V\\n\", \"M9L\\n\", \"M5V\\n\", \"M1B\\n\", \"M5A\\n\"]\nfor postcode in test_list :\n    test_df = test_df.append(toronto_df_grouped[toronto_df_grouped[\"Postalcode\"]==postcode], ignore_index=True)\ntest_df"
        },
        {
            "cell_type": "markdown",
            "metadata": {},
            "source": "# Question 2 : Get the latitude and the longitude coordinates of each neighborhood."
        },
        {
            "cell_type": "code",
            "execution_count": 9,
            "metadata": {},
            "outputs": [
                {
                    "data": {
                        "text/html": "<div>\n<style scoped>\n    .dataframe tbody tr th:only-of-type {\n        vertical-align: middle;\n    }\n\n    .dataframe tbody tr th {\n        vertical-align: top;\n    }\n\n    .dataframe thead th {\n        text-align: right;\n    }\n</style>\n<table border=\"1\" class=\"dataframe\">\n  <thead>\n    <tr style=\"text-align: right;\">\n      <th></th>\n      <th>Postalcode</th>\n      <th>Latitude</th>\n      <th>Longitude</th>\n    </tr>\n  </thead>\n  <tbody>\n    <tr>\n      <th>0</th>\n      <td>M1B\\n</td>\n      <td>43.806686</td>\n      <td>-79.194353</td>\n    </tr>\n    <tr>\n      <th>1</th>\n      <td>M1C\\n</td>\n      <td>43.784535</td>\n      <td>-79.160497</td>\n    </tr>\n    <tr>\n      <th>2</th>\n      <td>M1E\\n</td>\n      <td>43.763573</td>\n      <td>-79.188711</td>\n    </tr>\n    <tr>\n      <th>3</th>\n      <td>M1G\\n</td>\n      <td>43.770992</td>\n      <td>-79.216917</td>\n    </tr>\n    <tr>\n      <th>4</th>\n      <td>M1H\\n</td>\n      <td>43.773136</td>\n      <td>-79.239476</td>\n    </tr>\n  </tbody>\n</table>\n</div>",
                        "text/plain": "  Postalcode   Latitude  Longitude\n0      M1B\\n  43.806686 -79.194353\n1      M1C\\n  43.784535 -79.160497\n2      M1E\\n  43.763573 -79.188711\n3      M1G\\n  43.770992 -79.216917\n4      M1H\\n  43.773136 -79.239476"
                    },
                    "execution_count": 9,
                    "metadata": {},
                    "output_type": "execute_result"
                }
            ],
            "source": "# The code was removed by Watson Studio for sharing."
        },
        {
            "cell_type": "code",
            "execution_count": 10,
            "metadata": {},
            "outputs": [
                {
                    "data": {
                        "text/html": "<div>\n<style scoped>\n    .dataframe tbody tr th:only-of-type {\n        vertical-align: middle;\n    }\n\n    .dataframe tbody tr th {\n        vertical-align: top;\n    }\n\n    .dataframe thead th {\n        text-align: right;\n    }\n</style>\n<table border=\"1\" class=\"dataframe\">\n  <thead>\n    <tr style=\"text-align: right;\">\n      <th></th>\n      <th>Postalcode</th>\n      <th>Borough</th>\n      <th>Neighborhood</th>\n      <th>Postalcode</th>\n      <th>Latitude</th>\n      <th>Longitude</th>\n    </tr>\n  </thead>\n  <tbody>\n    <tr>\n      <th>0</th>\n      <td>M5G\\n</td>\n      <td>Downtown Toronto\\n</td>\n      <td>Central Bay Street</td>\n      <td>M1B\\n</td>\n      <td>43.806686</td>\n      <td>-79.194353</td>\n    </tr>\n    <tr>\n      <th>1</th>\n      <td>M2H\\n</td>\n      <td>North York\\n</td>\n      <td>Hillcrest Village</td>\n      <td>M1C\\n</td>\n      <td>43.784535</td>\n      <td>-79.160497</td>\n    </tr>\n    <tr>\n      <th>2</th>\n      <td>M4B\\n</td>\n      <td>East York\\n</td>\n      <td>Parkview Hill, Woodbine Gardens</td>\n      <td>M1E\\n</td>\n      <td>43.763573</td>\n      <td>-79.188711</td>\n    </tr>\n    <tr>\n      <th>3</th>\n      <td>M1J\\n</td>\n      <td>Scarborough\\n</td>\n      <td>Scarborough Village</td>\n      <td>M1G\\n</td>\n      <td>43.770992</td>\n      <td>-79.216917</td>\n    </tr>\n    <tr>\n      <th>4</th>\n      <td>M4G\\n</td>\n      <td>East York\\n</td>\n      <td>Leaside</td>\n      <td>M1H\\n</td>\n      <td>43.773136</td>\n      <td>-79.239476</td>\n    </tr>\n    <tr>\n      <th>5</th>\n      <td>M4M\\n</td>\n      <td>East Toronto\\n</td>\n      <td>Studio District</td>\n      <td>M1J\\n</td>\n      <td>43.744734</td>\n      <td>-79.239476</td>\n    </tr>\n    <tr>\n      <th>6</th>\n      <td>M1R\\n</td>\n      <td>Scarborough\\n</td>\n      <td>Wexford, Maryvale</td>\n      <td>M1K\\n</td>\n      <td>43.727929</td>\n      <td>-79.262029</td>\n    </tr>\n    <tr>\n      <th>7</th>\n      <td>M9V\\n</td>\n      <td>Etobicoke\\n</td>\n      <td>South Steeles, Silverstone, Humbergate, Jamest...</td>\n      <td>M1L\\n</td>\n      <td>43.711112</td>\n      <td>-79.284577</td>\n    </tr>\n    <tr>\n      <th>8</th>\n      <td>M9L\\n</td>\n      <td>North York\\n</td>\n      <td>Humber Summit</td>\n      <td>M1M\\n</td>\n      <td>43.716316</td>\n      <td>-79.239476</td>\n    </tr>\n    <tr>\n      <th>9</th>\n      <td>M5V\\n</td>\n      <td>Downtown Toronto\\n</td>\n      <td>CN Tower, King and Spadina, Railway Lands, Har...</td>\n      <td>M1N\\n</td>\n      <td>43.692657</td>\n      <td>-79.264848</td>\n    </tr>\n    <tr>\n      <th>10</th>\n      <td>M1B\\n</td>\n      <td>Scarborough\\n</td>\n      <td>Malvern, Rouge</td>\n      <td>M1P\\n</td>\n      <td>43.757410</td>\n      <td>-79.273304</td>\n    </tr>\n    <tr>\n      <th>11</th>\n      <td>M5A\\n</td>\n      <td>Downtown Toronto\\n</td>\n      <td>Regent Park, Harbourfront</td>\n      <td>M1R\\n</td>\n      <td>43.750072</td>\n      <td>-79.295849</td>\n    </tr>\n  </tbody>\n</table>\n</div>",
                        "text/plain": "   Postalcode             Borough  \\\n0       M5G\\n  Downtown Toronto\\n   \n1       M2H\\n        North York\\n   \n2       M4B\\n         East York\\n   \n3       M1J\\n       Scarborough\\n   \n4       M4G\\n         East York\\n   \n5       M4M\\n      East Toronto\\n   \n6       M1R\\n       Scarborough\\n   \n7       M9V\\n         Etobicoke\\n   \n8       M9L\\n        North York\\n   \n9       M5V\\n  Downtown Toronto\\n   \n10      M1B\\n       Scarborough\\n   \n11      M5A\\n  Downtown Toronto\\n   \n\n                                         Neighborhood Postalcode   Latitude  \\\n0                                  Central Bay Street      M1B\\n  43.806686   \n1                                   Hillcrest Village      M1C\\n  43.784535   \n2                     Parkview Hill, Woodbine Gardens      M1E\\n  43.763573   \n3                                 Scarborough Village      M1G\\n  43.770992   \n4                                             Leaside      M1H\\n  43.773136   \n5                                     Studio District      M1J\\n  43.744734   \n6                                   Wexford, Maryvale      M1K\\n  43.727929   \n7   South Steeles, Silverstone, Humbergate, Jamest...      M1L\\n  43.711112   \n8                                       Humber Summit      M1M\\n  43.716316   \n9   CN Tower, King and Spadina, Railway Lands, Har...      M1N\\n  43.692657   \n10                                     Malvern, Rouge      M1P\\n  43.757410   \n11                          Regent Park, Harbourfront      M1R\\n  43.750072   \n\n    Longitude  \n0  -79.194353  \n1  -79.160497  \n2  -79.188711  \n3  -79.216917  \n4  -79.239476  \n5  -79.239476  \n6  -79.262029  \n7  -79.284577  \n8  -79.239476  \n9  -79.264848  \n10 -79.273304  \n11 -79.295849  "
                    },
                    "execution_count": 10,
                    "metadata": {},
                    "output_type": "execute_result"
                }
            ],
            "source": "df_row_merged = pd.concat([test_df, df_data_1], axis=1)\ndf_data_2 = df_row_merged.dropna(axis=0, how=\"any\", thresh=None, subset=None,inplace=False)\ndf_data_2"
        },
        {
            "cell_type": "markdown",
            "metadata": {},
            "source": "# Question 3 : Explore and cluster the neighborhoods in Toronto and generate maps to visualize your neighborhoods and how they cluster together."
        },
        {
            "cell_type": "code",
            "execution_count": 2,
            "metadata": {},
            "outputs": [],
            "source": "# To imprint the search for latitude and longitude for Borough co-ordinates onto map using Foursquare API"
        },
        {
            "cell_type": "code",
            "execution_count": 14,
            "metadata": {},
            "outputs": [
                {
                    "name": "stdout",
                    "output_type": "stream",
                    "text": "Your credentials:\nCLIENT_ID: DB5UMIQ0UFAALZQ2AG2AOMB1V5MG05UKJ02YFXSSWWZ2ZD2B\nCLIENT_SECRET: NMBUSEVZQAEYVE3RZGAOBUOWEPG4SEAVP2RON0PJ4S2G0IQS\n"
                }
            ],
            "source": "CLIENT_ID = \"DB5UMIQ0UFAALZQ2AG2AOMB1V5MG05UKJ02YFXSSWWZ2ZD2B\"\nCLIENT_SECRET = \"NMBUSEVZQAEYVE3RZGAOBUOWEPG4SEAVP2RON0PJ4S2G0IQS\"\nVERSION = '20180604'\nLIMIT = 30\nprint(\"Your credentials:\")\nprint(\"CLIENT_ID: \"+ CLIENT_ID)\nprint(\"CLIENT_SECRET: \"+ CLIENT_SECRET)"
        },
        {
            "cell_type": "code",
            "execution_count": 17,
            "metadata": {},
            "outputs": [
                {
                    "name": "stdout",
                    "output_type": "stream",
                    "text": "51.42936555 0.10139469856643134\n"
                }
            ],
            "source": "address = \"Borough, Toronto\"\n\ngeolocator = Nominatim(user_agent = \"foursquare_agent\")\nlocation = geolocator.geocode(address)\nlatitude = location.latitude\nlongitude = location.longitude\nprint(latitude, longitude)"
        },
        {
            "cell_type": "code",
            "execution_count": 25,
            "metadata": {},
            "outputs": [
                {
                    "name": "stdout",
                    "output_type": "stream",
                    "text": "Toronto ..... OK!\n"
                },
                {
                    "data": {
                        "text/plain": "'https://api.foursquare.com/v2/venues/search?client_id=DB5UMIQ0UFAALZQ2AG2AOMB1V5MG05UKJ02YFXSSWWZ2ZD2B&client_secret=NMBUSEVZQAEYVE3RZGAOBUOWEPG4SEAVP2RON0PJ4S2G0IQS&ii=51.42936555,0.10139469856643134&v=20180604&query=Toronto&radius=500&limit30'"
                    },
                    "execution_count": 25,
                    "metadata": {},
                    "output_type": "execute_result"
                }
            ],
            "source": "search_query = \"Toronto\"\nradius = 500\nprint(search_query + ' ..... OK!')\nurl = 'https://api.foursquare.com/v2/venues/search?client_id={}&client_secret={}&ii={},{}&v={}&query={}&radius={}&limit{}'.format(CLIENT_ID,CLIENT_SECRET, latitude, longitude, VERSION, search_query, radius, LIMIT)\nurl"
        },
        {
            "cell_type": "code",
            "execution_count": 44,
            "metadata": {},
            "outputs": [
                {
                    "data": {
                        "text/html": "<div style=\"width:100%;\"><div style=\"position:relative;width:100%;height:0;padding-bottom:60%;\"><span style=\"color:#565656\">Make this Notebook Trusted to load map: File -> Trust Notebook</span><iframe src=\"about:blank\" style=\"position:absolute;width:100%;height:100%;left:0;top:0;border:none !important;\" data-html=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 onload=\"this.contentDocument.open();this.contentDocument.write(atob(this.getAttribute('data-html')));this.contentDocument.close();\" allowfullscreen webkitallowfullscreen mozallowfullscreen></iframe></div></div>",
                        "text/plain": "<folium.folium.Map at 0x7f540573aac8>"
                    },
                    "execution_count": 44,
                    "metadata": {},
                    "output_type": "execute_result"
                }
            ],
            "source": "venues_map = folium.Map(location=[latitude, longitude], zoom_start=13)\nfolium.features.CircleMarker(\n    [latitude, longitude],\n    radius=10,\n    color = 'red',\n    popup = 'Conrad',\n    fill = True,\n    fill_color = 'red',\n    fill_opacity = 0.6\n).add_to(venues_map)\nvenues_map"
        },
        {
            "cell_type": "code",
            "execution_count": null,
            "metadata": {},
            "outputs": [],
            "source": ""
        }
    ],
    "metadata": {
        "kernelspec": {
            "display_name": "Python 3.6",
            "language": "python",
            "name": "python3"
        },
        "language_info": {
            "codemirror_mode": {
                "name": "ipython",
                "version": 3
            },
            "file_extension": ".py",
            "mimetype": "text/x-python",
            "name": "python",
            "nbconvert_exporter": "python",
            "pygments_lexer": "ipython3",
            "version": "3.6.9"
        }
    },
    "nbformat": 4,
    "nbformat_minor": 1
}